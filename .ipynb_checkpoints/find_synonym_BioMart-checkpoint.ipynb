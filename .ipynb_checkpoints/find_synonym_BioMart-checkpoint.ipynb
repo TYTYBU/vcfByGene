{
 "cells": [
  {
   "cell_type": "code",
   "execution_count": 4,
   "id": "db4cdef4",
   "metadata": {
    "scrolled": true
   },
   "outputs": [],
   "source": [
    "from biomart import BiomartServer\n",
    "server = BiomartServer(\"http://useast.ensembl.org/biomart\")\n",
    "gene_ensembl = server.datasets['hsapiens_gene_ensembl']"
   ]
  },
  {
   "cell_type": "code",
   "execution_count": 18,
   "id": "ae0bfb51",
   "metadata": {},
   "outputs": [
    {
     "name": "stdout",
     "output_type": "stream",
     "text": [
      "Gene name\tGene Synonym\n",
      "DENND11\tKIAA1147\n",
      "DENND11\tLCHN\n",
      "UPK3B\tFLJ32198\n",
      "UPK3B\tMGC10902\n",
      "UPK3B\tp35\n",
      "UPK3B\tUPIIIb\n",
      "TWNK\tC10orf2\n",
      "TWNK\tFLJ21832\n",
      "TWNK\tIOSCA\n",
      "TWNK\tPEO\n",
      "TWNK\tPEO1\n",
      "TWNK\tTWINKLE\n",
      "TWNK\tTWINL\n",
      "SELENOS\tAD-015\n",
      "SELENOS\tMGC2553\n",
      "SELENOS\tSBBI8\n",
      "SELENOS\tSELS\n",
      "SELENOS\tSEPS1\n",
      "SELENOS\tVIMP\n",
      "TENT2\tFLJ38499\n",
      "TENT2\tGLD2\n",
      "TENT2\tPAPD4\n",
      "TENT2\tTUT2\n",
      "AFDN\tAF-6\n",
      "AFDN\tAF6\n",
      "AFDN\tMLLT4\n",
      "\n"
     ]
    }
   ],
   "source": [
    "missing_genes = ['TWNK', 'TENT2', 'PRR26', 'AFDN', 'UPK3B', 'SELENOS', 'DENND11']\n",
    "response = gene_ensembl.search({\n",
    "  'filters': {\n",
    "      'external_gene_name': missing_genes\n",
    "  },\n",
    "  'attributes': [\n",
    "      'external_gene_name', 'external_synonym'\n",
    "  ]\n",
    "}, header = 1)\n",
    "print(response.text)"
   ]
  }
 ],
 "metadata": {
  "kernelspec": {
   "display_name": "Python 3 (ipykernel)",
   "language": "python",
   "name": "python3"
  },
  "language_info": {
   "codemirror_mode": {
    "name": "ipython",
    "version": 3
   },
   "file_extension": ".py",
   "mimetype": "text/x-python",
   "name": "python",
   "nbconvert_exporter": "python",
   "pygments_lexer": "ipython3",
   "version": "3.9.10"
  }
 },
 "nbformat": 4,
 "nbformat_minor": 5
}
